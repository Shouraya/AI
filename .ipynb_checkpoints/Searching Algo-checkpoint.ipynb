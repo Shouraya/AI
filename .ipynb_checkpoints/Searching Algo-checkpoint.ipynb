{
 "cells": [
  {
   "cell_type": "code",
   "execution_count": null,
   "metadata": {
    "colab": {
     "base_uri": "https://localhost:8080/"
    },
    "id": "FSAxeOoTX5YC",
    "outputId": "9c9cf1fc-db7d-4513-c2d8-7cd2eab3318e"
   },
   "outputs": [
    {
     "name": "stdout",
     "output_type": "stream",
     "text": [
      "BFS is \n",
      "5 3 7 2 4 8 \n",
      "element Not Present in graph\n"
     ]
    }
   ],
   "source": [
    "# BFS\n",
    "\n",
    "graph = {\n",
    "  '5' : ['3','7'],\n",
    "  '3' : ['2', '4'],\n",
    "  '7' : ['8'],\n",
    "  '2' : [],\n",
    "  '4' : ['8'],\n",
    "  '8' : []\n",
    "}\n",
    "\n",
    "\n",
    "visited = []\n",
    "queue = []\n",
    "\n",
    "def BFS(visited,graph,start,goal):\n",
    "\n",
    "  visited.append(start)\n",
    "  queue.append(start)\n",
    "\n",
    "  if start == goal:\n",
    "    print(\"found!!! yeah\")\n",
    "    return\n",
    "  while queue:\n",
    "\n",
    "    m = queue.pop(0)\n",
    "    print(m,end = \" \")\n",
    "\n",
    "    if m == goal:\n",
    "      print(\"found!!\")\n",
    "      return\n",
    "\n",
    "    for i in graph[m]:\n",
    "      if i not in visited:\n",
    "        queue.append(i)\n",
    "        visited.append(i)\n",
    " \n",
    "  print(\"\\nelement Not Present in graph\")\n",
    "\n",
    "\n",
    "print(\"BFS is \")\n",
    "BFS(visited,graph,'5','10')\n"
   ]
  },
  {
   "cell_type": "code",
   "execution_count": null,
   "metadata": {
    "colab": {
     "base_uri": "https://localhost:8080/"
    },
    "id": "uabYct6_ZvpN",
    "outputId": "5af4e156-1178-420e-bfe8-f410fddde991"
   },
   "outputs": [
    {
     "name": "stdout",
     "output_type": "stream",
     "text": [
      "DFS is \n",
      "5 3 2 4 8 7 "
     ]
    },
    {
     "data": {
      "text/plain": [
       "False"
      ]
     },
     "execution_count": 7,
     "metadata": {},
     "output_type": "execute_result"
    }
   ],
   "source": [
    "# DFS\n",
    "\n",
    "graph = {\n",
    "  '5' : ['3','7'],\n",
    "  '3' : ['2', '4'],\n",
    "  '7' : ['8'],\n",
    "  '2' : [],\n",
    "  '4' : ['8'],\n",
    "  '8' : []\n",
    "}\n",
    "\n",
    "visited = set()\n",
    "\n",
    "\n",
    "def DFS(visited,graph,start,goal):\n",
    "\n",
    "  if start == goal:\n",
    "    return True\n",
    "\n",
    "  if start not in visited:\n",
    "    print(start,end = \" \")\n",
    "    visited.add(start)\n",
    "\n",
    "    for i in graph[start]:\n",
    "      if DFS(visited,graph,i,goal):\n",
    "        return True\n",
    "\n",
    "    return False\n",
    "   \n",
    "print(\"DFS is \")\n",
    "DFS(visited,graph,'5','12')"
   ]
  },
  {
   "cell_type": "code",
   "execution_count": null,
   "metadata": {
    "colab": {
     "base_uri": "https://localhost:8080/"
    },
    "id": "xp7gT8B1chDv",
    "outputId": "aac731a0-3f07-491a-bc0f-41c4a8e2185e"
   },
   "outputs": [
    {
     "name": "stdout",
     "output_type": "stream",
     "text": [
      "DLS is \n",
      "5 3 2\n"
     ]
    },
    {
     "data": {
      "text/plain": [
       "True"
      ]
     },
     "execution_count": 41,
     "metadata": {},
     "output_type": "execute_result"
    }
   ],
   "source": [
    "# DLS\n",
    "\n",
    "graph = {\n",
    "  '5' : ['3','7'],\n",
    "  '3' : ['2', '4'],\n",
    "  '7' : ['8'],\n",
    "  '2' : [],\n",
    "  '4' : ['8'],\n",
    "  '8' : []\n",
    "}\n",
    "\n",
    "visited = set()\n",
    "\n",
    "def DLS(visited,graph,start,goal,level):\n",
    "\n",
    "  if start == goal:\n",
    "    print(start)\n",
    "    return True\n",
    "\n",
    "  if level <= 0:\n",
    "    return False\n",
    "  if start not in visited:\n",
    "    print(start,end = \" \")\n",
    "    visited.add(start)\n",
    "\n",
    "    for i in graph[start]:\n",
    "      if DLS(visited,graph,i,goal,level-1):\n",
    "        return True\n",
    "    return False\n",
    "   \n",
    "print(\"DLS is \")\n",
    "DLS(visited,graph,'5','2',2)"
   ]
  },
  {
   "cell_type": "code",
   "execution_count": null,
   "metadata": {
    "colab": {
     "base_uri": "https://localhost:8080/"
    },
    "id": "VlJglrIle8ax",
    "outputId": "038cb700-d560-4b15-8365-f01994bb489d"
   },
   "outputs": [
    {
     "name": "stdout",
     "output_type": "stream",
     "text": [
      "DFS-ID is \n",
      "5 "
     ]
    },
    {
     "data": {
      "text/plain": [
       "False"
      ]
     },
     "execution_count": 53,
     "metadata": {},
     "output_type": "execute_result"
    }
   ],
   "source": [
    "# DFS - ID\n",
    "\n",
    "graph = {\n",
    "  '5' : ['3','7'],\n",
    "  '3' : ['2', '4'],\n",
    "  '7' : ['8'],\n",
    "  '2' : [],\n",
    "  '4' : ['8'],\n",
    "  '8' : []\n",
    "}\n",
    "\n",
    "visited = set()\n",
    "\n",
    "\n",
    "def DLS(visited,graph,start,goal,level):\n",
    "\n",
    "  if start == goal:\n",
    "    print(start)\n",
    "    return True\n",
    "\n",
    "  if level <= 0:\n",
    "    return False\n",
    "  if start not in visited:\n",
    "    print(start,end = \" \")\n",
    "    visited.add(start)\n",
    "\n",
    "    for i in graph[start]:\n",
    "      if DLS(visited,graph,i,goal,level-1):\n",
    "        return True\n",
    "    return False\n",
    "\n",
    "def DFSID(visited,graph,start,goal,level):\n",
    "  for i in range(level):\n",
    "    if DLS(visited,graph,start,goal,i):\n",
    "      return True\n",
    "  return False\n",
    "\n",
    "print(\"DFS-ID is \")\n",
    "DFSID(visited,graph,'5','2',4)"
   ]
  },
  {
   "cell_type": "code",
   "execution_count": null,
   "metadata": {
    "colab": {
     "base_uri": "https://localhost:8080/"
    },
    "id": "2tX2GmJOjyIS",
    "outputId": "83914aab-ded2-4087-edc2-054b46e2f30a"
   },
   "outputs": [
    {
     "name": "stdout",
     "output_type": "stream",
     "text": [
      "Following is the Depth-First Search\n",
      "5 "
     ]
    },
    {
     "data": {
      "text/plain": [
       "False"
      ]
     },
     "execution_count": 54,
     "metadata": {},
     "output_type": "execute_result"
    }
   ],
   "source": [
    "graph = {\n",
    "  '5' : ['3','7'],\n",
    "  '3' : ['2', '4'],\n",
    "  '7' : ['8'],\n",
    "  '2' : [],\n",
    "  '4' : ['8'],\n",
    "  '8' : []\n",
    "}\n",
    "\n",
    "visited = set() \n",
    "\n",
    "\n",
    "def DLS(visited,graph,node,target,depth):\n",
    "    if node == target : return True\n",
    "    if depth <= 0 : return False\n",
    "    if node not in visited:\n",
    "      print(node,end = \" \")\n",
    "      visited.add(node)\n",
    "    for i in graph[node]:\n",
    "        if(DLS(visited,graph,i,target,depth-1)):\n",
    "            return True\n",
    "    return False\n",
    "\n",
    "def IDDFS(node, target, maxDepth):\n",
    "    for i in range(maxDepth):\n",
    "        if (DLS(visited,graph,node,target,i)):\n",
    "            return True\n",
    "    return False\n",
    "\n",
    "\n",
    "            \n",
    "# Driver Code\n",
    "print(\"Following is the Depth-First Search\")\n",
    "(IDDFS('5','2',2))\n",
    "\n",
    "\n"
   ]
  },
  {
   "cell_type": "code",
   "execution_count": null,
   "metadata": {
    "colab": {
     "base_uri": "https://localhost:8080/"
    },
    "id": "nX8P4cBjhcFT",
    "outputId": "3c3c964a-b013-4e75-ea1d-24af684b686a"
   },
   "outputs": [
    {
     "name": "stdout",
     "output_type": "stream",
     "text": [
      "S\n",
      "B\n",
      "C\n"
     ]
    }
   ],
   "source": [
    "# Best First Search\n",
    "\n",
    "\n",
    "def bfs(start, target, graph, queue=[], visited=[]):\n",
    "\n",
    "    if start not in visited:\n",
    "        print(start)\n",
    "        visited.append(start)\n",
    "\n",
    "    for x in graph[start]:\n",
    "        if x[0] not in visited:\n",
    "            queue.append(x)\n",
    "\n",
    "    queue.sort(key=lambda x: x[1])\n",
    "    if not queue:\n",
    "      print(\"soln not present\")\n",
    "      count = 1\n",
    "      return\n",
    "\n",
    "    if queue[0][0] == target:\n",
    "        print(queue[0][0])\n",
    "    else:\n",
    "        processing = queue[0]\n",
    "        queue.remove(processing)\n",
    "        bfs(processing[0], target, graph, queue, visited)\n",
    "\n",
    "\n",
    "\n",
    "\n",
    "# graph = {\n",
    "#   '5' : [('3',4),('7',2)],\n",
    "#   '3' : [('2',6), ('4',3)],\n",
    "#   '7' : [('8',2)],\n",
    "#   '2' : [],\n",
    "#   '4' : [('8',2)],\n",
    "#   '8' : []\n",
    "# }\n",
    "\n",
    "graph = {\n",
    "  'S' : [('A',4),('B',3)],\n",
    "  'A' : [('C',1)],\n",
    "  'B' : [('C',3)],\n",
    "  'C' : []\n",
    "}\n",
    "\n",
    "# graph = {\n",
    "#     'Black': [('Red', 4), ('Yellow', 1), ('Blue', 2)],\n",
    "#     'Red': [('Pink', 8), ('Orange', 6)],\n",
    "#     'Yellow': [('Orange', 10), ('Green', 15)],\n",
    "#     'Blue': [('Green', 9)],\n",
    "#     'Pink': [],\n",
    "#     'Orange': [],\n",
    "#     'Green': []\n",
    "# }\n",
    "\n",
    "bfs('S', 'C', graph)\n",
    "\n",
    "# if count == 0:\n",
    "#   print(\"Cost =\",cost)\n"
   ]
  },
  {
   "cell_type": "code",
   "execution_count": null,
   "metadata": {
    "colab": {
     "base_uri": "https://localhost:8080/"
    },
    "id": "YbjUAzwH1eFy",
    "outputId": "580d9637-10d4-4336-83a0-64e9efd58b6b"
   },
   "outputs": [
    {
     "name": "stdout",
     "output_type": "stream",
     "text": [
      "5\n",
      "3\n",
      "2\n",
      "Cost =  7\n"
     ]
    }
   ],
   "source": [
    "# Simple Hill Climbing\n",
    "\n",
    "cost = 0\n",
    "count = 0\n",
    "def simpleHill(start, target, graph, queue=[], visited=[]):\n",
    "    global cost\n",
    "    global count \n",
    "    if start not in visited:\n",
    "        print(start)\n",
    "        visited.append(start)\n",
    "    for x in graph[start]:\n",
    "        if x[0] not in visited:\n",
    "            queue.append(x)\n",
    "    queue.sort(key=lambda x: x[1])\n",
    "    if not queue:\n",
    "      print(\"no more Optimal State found\")\n",
    "      count = 1\n",
    "      return\n",
    "    m = queue[0]\n",
    "    queue.clear()\n",
    "    queue.append(m)\n",
    "    cost+=queue[0][1]\n",
    "    if queue[0][0] == target:\n",
    "        print(queue[0][0])\n",
    "    else:\n",
    "        processing = queue[0]\n",
    "        queue.remove(processing)\n",
    "        simpleHill(processing[0], target, graph, queue, visited)\n",
    "\n",
    "\n",
    "\n",
    "\n",
    "graph = {\n",
    "  '5' : [('3',4),('7',12)],\n",
    "  '3' : [('2',3), ('4',6)],\n",
    "  '7' : [('8',2)],\n",
    "  '2' : [],\n",
    "  '4' : [('8',2)],\n",
    "  '8' : []\n",
    "}\n",
    "\n",
    "# graph = {\n",
    "#     'Black': [('Red', 4), ('Yellow', 1), ('Blue', 2)],\n",
    "#     'Red': [('Pink', 8), ('Orange', 6)],\n",
    "#     'Yellow': [('Orange', 10), ('Green', 15)],\n",
    "#     'Blue': [('Green', 9)],\n",
    "#     'Pink': [],\n",
    "#     'Orange': [],\n",
    "#     'Green': []\n",
    "# }\n",
    "\n",
    "simpleHill('5', '2', graph)\n",
    "if count == 0:\n",
    "  print(\"Cost = \",cost)\n",
    "\n"
   ]
  },
  {
   "cell_type": "code",
   "execution_count": null,
   "metadata": {
    "colab": {
     "base_uri": "https://localhost:8080/"
    },
    "id": "E2PV4x_5-NXV",
    "outputId": "9a8df391-8d54-4e85-9932-4deaeead4719"
   },
   "outputs": [
    {
     "name": "stdout",
     "output_type": "stream",
     "text": [
      "Sultion is  [('S', 0), ('A', 4), ('C', 1)]\n",
      "\n",
      " PAth cost is  5\n"
     ]
    }
   ],
   "source": [
    "# Uniform Cost Search\n",
    "\n",
    "from queue import Queue\n",
    "graph={\n",
    "    'S':[('A',4),('B',3)],\n",
    "    'A':[('C',1)],\n",
    "    'B':[('C',3)]\n",
    "    # 'C':[('D',1),('G',2)],\n",
    "    # 'D':[('G',5)]\n",
    "}\n",
    "\n",
    "\n",
    "# graph = {\n",
    "#   'S' : [('A',4),('B',3)],\n",
    "#   'A' : [('C',1)],\n",
    "#   'B' : [('C',1)]\n",
    "# }\n",
    "\n",
    "def path_cost(path):\n",
    "  total_cost=0\n",
    "  for(node,cost) in path:\n",
    "    total_cost+=cost\n",
    "  return total_cost,path[-1][0]\n",
    "\n",
    "def ucs(graph,start,goal):\n",
    "  visited=[]\n",
    "  queue=[[(start,0)]]\n",
    "  while queue:\n",
    "    queue.sort(key=path_cost)\n",
    "    path=queue.pop(0)\n",
    "    node=path[-1][0]\n",
    "    if node in visited:\n",
    "      continue\n",
    "    visited.append(node)\n",
    "    if node==goal:\n",
    "      return path\n",
    "    else:\n",
    "      adjacent_nodes=graph.get(node,[])\n",
    "      for (node2,cost) in adjacent_nodes:\n",
    "        new_path=path.copy()\n",
    "        new_path.append((node2,cost))\n",
    "        queue.append(new_path)\n",
    "solution=ucs(graph,'S','C')\n",
    "print(\"Sultion is \", solution)\n",
    "print(\"\\n PAth cost is \", path_cost(solution)[0])"
   ]
  },
  {
   "cell_type": "code",
   "execution_count": null,
   "metadata": {
    "id": "GTjZjhiimCjs"
   },
   "outputs": [],
   "source": [
    "# https://colab.research.google.com/drive/1mVBujFa-JOI-dfFd9ynaerOUkISCAaAM?usp=sharing"
   ]
  }
 ],
 "metadata": {
  "colab": {
   "collapsed_sections": [],
   "name": "Searching Algo.ipynb",
   "provenance": []
  },
  "kernelspec": {
   "display_name": "Python 3 (ipykernel)",
   "language": "python",
   "name": "python3"
  },
  "language_info": {
   "codemirror_mode": {
    "name": "ipython",
    "version": 3
   },
   "file_extension": ".py",
   "mimetype": "text/x-python",
   "name": "python",
   "nbconvert_exporter": "python",
   "pygments_lexer": "ipython3",
   "version": "3.9.7"
  }
 },
 "nbformat": 4,
 "nbformat_minor": 1
}
